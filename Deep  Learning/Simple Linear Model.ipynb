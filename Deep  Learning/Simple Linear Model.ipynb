{
 "cells": [
  {
   "cell_type": "markdown",
   "metadata": {},
   "source": [
    "## Import the relevant library"
   ]
  },
  {
   "cell_type": "code",
   "execution_count": 1,
   "metadata": {},
   "outputs": [],
   "source": [
    "import numpy as np\n",
    "import matplotlib.pyplot as plt\n",
    "from mpl_toolkits.mplot3d import Axes3D"
   ]
  },
  {
   "cell_type": "markdown",
   "metadata": {},
   "source": [
    "## Generate the random data which serves as the input for our model"
   ]
  },
  {
   "cell_type": "code",
   "execution_count": 2,
   "metadata": {},
   "outputs": [
    {
     "data": {
      "text/plain": [
       "(1000, 2)"
      ]
     },
     "execution_count": 2,
     "metadata": {},
     "output_type": "execute_result"
    }
   ],
   "source": [
    "#defind the observations\n",
    "observations = 1000\n",
    "#get the random value so we can find the input variable in each time\n",
    "xs = np.random.uniform(low=-10,high=10,size=(observations,1))\n",
    "zs = np.random.uniform(low=-10,high=10,size=(observations,1))\n",
    "#the column stack function will `make the input as matrics\n",
    "inputs = np.column_stack(tup=(xs,zs))\n",
    "inputs.shape"
   ]
  },
  {
   "cell_type": "markdown",
   "metadata": {},
   "source": [
    "## Create the targets we aim at"
   ]
  },
  {
   "cell_type": "code",
   "execution_count": 3,
   "metadata": {},
   "outputs": [
    {
     "data": {
      "text/plain": [
       "(1000, 1)"
      ]
     },
     "execution_count": 3,
     "metadata": {},
     "output_type": "execute_result"
    }
   ],
   "source": [
    "#every target contains noise in the data.\n",
    "noise = np.random.uniform(-1,1,(observations,1))\n",
    "#define the target, as it is the value that we define for the algorithm to predict/to get\n",
    "targets = 13*xs - 7*zs + 12 + noise\n",
    "targets.shape"
   ]
  },
  {
   "cell_type": "markdown",
   "metadata": {},
   "source": [
    "## Set the weights and biases"
   ]
  },
  {
   "cell_type": "code",
   "execution_count": 4,
   "metadata": {},
   "outputs": [
    {
     "name": "stdout",
     "output_type": "stream",
     "text": [
      "[[ 0.03379781]\n",
      " [-0.04314807]]\n",
      "[-0.09275248]\n"
     ]
    }
   ],
   "source": [
    "init_val = 0.1\n",
    "#as many biases as there are output in the model\n",
    "weights = np.random.uniform(-init_val,init_val,size=(2,1))\n",
    "biases = np.random.uniform(-init_val,init_val,size=1)\n",
    "print(weights)\n",
    "print(biases)"
   ]
  },
  {
   "cell_type": "markdown",
   "metadata": {},
   "source": [
    "## Set the learning rate"
   ]
  },
  {
   "cell_type": "code",
   "execution_count": 5,
   "metadata": {},
   "outputs": [],
   "source": [
    "learning_rate = 0.0025"
   ]
  },
  {
   "cell_type": "markdown",
   "metadata": {},
   "source": [
    "## Train the data"
   ]
  },
  {
   "cell_type": "code",
   "execution_count": 6,
   "metadata": {},
   "outputs": [
    {
     "name": "stdout",
     "output_type": "stream",
     "text": [
      "3637.071264263917\n",
      "3074.7902012594914\n",
      "2601.127760211022\n",
      "2202.1039410019666\n",
      "1865.9449759207853\n",
      "1582.7350286604976\n",
      "1344.1229009450738\n",
      "1143.075055948164\n",
      "973.667641319878\n",
      "830.9113510810985\n",
      "710.6039392424286\n",
      "609.2060176787071\n",
      "523.736460885483\n",
      "451.6843212540777\n",
      "390.93464767753204\n",
      "339.706012162311\n",
      "296.4978958943833\n",
      "260.04637818378967\n",
      "229.28681755202183\n",
      "203.32242122431194\n",
      "181.39777358382912\n",
      "162.876540905495\n",
      "147.2226932651297\n",
      "133.984688578369\n",
      "122.78215134758479\n",
      "113.29465248061557\n",
      "105.25225867878274\n",
      "98.42757221415297\n",
      "92.6290259771448\n",
      "87.69523578027066\n",
      "83.49024315077634\n",
      "79.89950815928778\n",
      "76.82653399226349\n",
      "74.19002363896199\n",
      "71.92148478106019\n",
      "69.96321221003559\n",
      "68.26658824555733\n",
      "66.79065101716087\n",
      "65.50088837908467\n",
      "64.36822188815609\n",
      "63.368150883923164\n",
      "62.4800314346745\n",
      "61.686468892186895\n",
      "60.97280614960894\n",
      "60.32669251983979\n",
      "59.73772052951157\n",
      "59.19711992646112\n",
      "58.697499885535244\n",
      "58.23263181853729\n",
      "57.79726639103837\n",
      "57.38697935699136\n",
      "56.998041671351864\n",
      "56.62731005629898\n",
      "56.27213479927182\n",
      "55.93028206866955\n",
      "55.59986846069314\n",
      "55.27930585103461\n",
      "54.9672549285828\n",
      "54.662586043954335\n",
      "54.3643462210179\n",
      "54.071731361003465\n",
      "53.78406282162976\n",
      "53.50076768244466\n",
      "53.22136211604727\n",
      "52.94543737625086\n",
      "52.67264799123642\n",
      "52.40270181461236\n",
      "52.13535164194537\n",
      "51.87038814636762\n",
      "51.607633925658156\n",
      "51.34693848587712\n",
      "51.08817401416827\n",
      "50.831231816543905\n",
      "50.576019316015284\n",
      "50.32245752289855\n",
      "50.07047890300561\n",
      "49.8200255811183\n",
      "49.57104782699925\n",
      "49.32350277948973\n",
      "49.07735337124202\n",
      "48.83256742252559\n",
      "48.58911687751247\n",
      "48.34697716063085\n",
      "48.1061266341038\n",
      "47.8665461407573\n",
      "47.62821861868937\n",
      "47.39112877649801\n",
      "47.155262819545506\n",
      "46.92060821923376\n",
      "46.68715351852727\n",
      "46.45488816802483\n",
      "46.22380238777694\n",
      "45.99388705080054\n",
      "45.76513358488114\n",
      "45.537533889786324\n",
      "45.31108026746898\n",
      "45.08576536321768\n",
      "44.86158211603396\n",
      "44.638523716786224\n",
      "44.41658357291784\n",
      "[[12.98040867]\n",
      " [-7.04791876]]\n",
      "[2.59378916]\n"
     ]
    }
   ],
   "source": [
    "for i in range(100):\n",
    "    \n",
    "    # y =wx+b\n",
    "    output = np.dot(inputs,weights) + biases\n",
    "    delta = output - targets\n",
    "    #now we will calculate the loss function\n",
    "    loss = np.sum(delta**2)/2/observations\n",
    "    print(loss)\n",
    "    \n",
    "    delta_scaled = delta/observations\n",
    "    \n",
    "    #now its time for gradient descent method for optimization algorithm\n",
    "    weights = weights - learning_rate*np.dot(inputs.T,delta_scaled)\n",
    "    biases = biases - learning_rate*np.sum(delta_scaled)\n",
    "    \n",
    "print(weights)\n",
    "print(biases)    \n",
    "    "
   ]
  },
  {
   "cell_type": "markdown",
   "metadata": {},
   "source": [
    "## Draw the plot"
   ]
  },
  {
   "cell_type": "code",
   "execution_count": 7,
   "metadata": {},
   "outputs": [
    {
     "data": {
      "image/png": "[encoded data removed]",
      "text/plain": [
       "<Figure size 432x288 with 1 Axes>"
      ]
     },
     "metadata": {
      "needs_background": "light"
     },
     "output_type": "display_data"
    }
   ],
   "source": [
    "#we are going to confirm the output vs target behaviour\n",
    "plt.plot(output,targets)\n",
    "plt.xlabel('output', fontsize=20)\n",
    "plt.ylabel('targets',fontsize=20)\n",
    "plt.show()"
   ]
  },
  {
   "cell_type": "code",
   "execution_count": null,
   "metadata": {},
   "outputs": [],
   "source": []
  }
 ],
 "metadata": {
  "kernelspec": {
   "display_name": "Python 3",
   "language": "python",
   "name": "python3"
  },
  "language_info": {
   "codemirror_mode": {
    "name": "ipython",
    "version": 3
   },
   "file_extension": ".py",
   "mimetype": "text/x-python",
   "name": "python",
   "nbconvert_exporter": "python",
   "pygments_lexer": "ipython3",
   "version": "3.7.0"
  }
 },
 "nbformat": 4,
 "nbformat_minor": 2
}
